{
 "cells": [
  {
   "cell_type": "markdown",
   "id": "0c437779-099f-44db-9c08-a690d532e645",
   "metadata": {},
   "source": [
    "## Isogeny skips\n",
    "\n",
    "This notebook contains a simple visualizations for data collected by glitching CSIDH on Chipwhisperer, goal is to check how often do glitches cause a skip of single isogeny."
   ]
  },
  {
   "cell_type": "code",
   "execution_count": null,
   "id": "42d4c7d3-f509-4948-ad4e-e52b88e010f3",
   "metadata": {},
   "outputs": [],
   "source": [
    "%run ./init.ipynb # loads datasets, etc."
   ]
  },
  {
   "cell_type": "code",
   "execution_count": null,
   "id": "c7f81a88-bf45-4fe6-aa30-a0a4afbe53ba",
   "metadata": {},
   "outputs": [],
   "source": [
    "from csidh import CSIDHDLL"
   ]
  },
  {
   "cell_type": "code",
   "execution_count": null,
   "id": "395103d0-f923-4ef4-a915-f1b5c0885a78",
   "metadata": {},
   "outputs": [],
   "source": []
  },
  {
   "cell_type": "code",
   "execution_count": null,
   "id": "ec39cf83-9ba8-45ca-8d4c-0a84cd48b094",
   "metadata": {},
   "outputs": [],
   "source": [
    "SRC_PATH = \"../src\"\n",
    "csidh = CSIDHDLL(SRC_PATH)"
   ]
  },
  {
   "cell_type": "code",
   "execution_count": null,
   "id": "16546118-354f-4b83-863f-9b4cc5569a56",
   "metadata": {},
   "outputs": [],
   "source": [
    "# Since keyspace is small, we can just precompute everything\n",
    "keyspace = {}\n",
    "for e_1 in range(-10, 11):\n",
    "    for e_2 in range(-10, 11):\n",
    "        for e_3 in range(-10, 11):\n",
    "            key = [e_1, e_2, e_3]\n",
    "            csidh.public = 0xec  # Started at public key corresponding to [-10, 10, -10] = 144 * 409 % 419 = 0xec\n",
    "            csidh.private = key\n",
    "            res = csidh.action()\n",
    "            keyspace[str(key)] = csidh.from_projective(res)"
   ]
  },
  {
   "cell_type": "code",
   "execution_count": null,
   "id": "91d02b5b-cb3e-46b6-9b7e-3050480bab82",
   "metadata": {},
   "outputs": [],
   "source": [
    "keyspace[str([10, -10, 10])]"
   ]
  },
  {
   "cell_type": "code",
   "execution_count": null,
   "id": "5fce1a5e-48f7-4351-9da3-7697a605ef60",
   "metadata": {},
   "outputs": [],
   "source": [
    "def skip_isogeny(private, i):\n",
    "    from copy import copy\n",
    "    new = copy(private)\n",
    "    if new[i] == 0:\n",
    "        return new\n",
    "    new[i] = new[i] - 1 if new[i] > 0 else new[i] + 1\n",
    "    return new"
   ]
  },
  {
   "cell_type": "markdown",
   "id": "3cd7a3f0-3d4f-4be2-8c64-67bcde73c691",
   "metadata": {},
   "source": [
    "# Attack 1\n",
    "- First attack was randomly glitching whole group action evaluation"
   ]
  },
  {
   "cell_type": "markdown",
   "id": "96bb9241-cdba-4bb6-a0bd-29b4ee9d4487",
   "metadata": {},
   "source": [
    "## First dataset - key = [10,-10 10]\n",
    "- Key was [10, -10, 10], we started at public corresponding to [-10, 10, -10], that is 0xec in projective coordinates\n",
    "- First, check how many of results correspond to one isogeny skip, then try to classify other types of faults"
   ]
  },
  {
   "cell_type": "code",
   "execution_count": null,
   "id": "0592fac4-f610-43ae-abc0-e7d2290b7205",
   "metadata": {
    "scrolled": true
   },
   "outputs": [],
   "source": [
    "private = [10, -10, 10]\n",
    "expected_public = 0\n",
    "df = datasets[\"dummy\"][str(private)][\"attack2-tight\"]\n",
    "\n",
    "statistics = {}\n",
    "statistics[\"total\"] = len(df)\n",
    "statistics[\"mutes\"] = len(df[df[\"good/bad/crash\"] == \"crash\"])\n",
    "statistics[\"good public\"] = len(df[df[\"good/bad/crash\"] == \"good\"])\n",
    "statistics[\"bad public\"] = len(df[df[\"good/bad/crash\"] == \"bad\"])\n",
    "\n",
    "statistics[\"skipped 3-isogeny\"] = len(df[df[\"public\"] == keyspace[str(skip_isogeny(private, 0))]])\n",
    "statistics[\"skipped 5-isogeny\"] = len(df[df[\"public\"] == keyspace[str(skip_isogeny(private, 1))]])\n",
    "statistics[\"skipped 7-isogeny\"] = len(df[df[\"public\"] == keyspace[str(skip_isogeny(private, 2))]])\n",
    "\n",
    "df = df.dropna()\n",
    "df[\"possible\"] = df[\"public\"].isin(keyspace.values())\n",
    "statistics[\"impossible public\"] = len(df[df[\"possible\"] == False])"
   ]
  },
  {
   "cell_type": "code",
   "execution_count": null,
   "id": "1cb1ae81-4fe0-4182-915a-3f2ab12335c1",
   "metadata": {},
   "outputs": [],
   "source": [
    "df[df[\"public\"] == keyspace[str(skip_isogeny(private, 2))]]"
   ]
  },
  {
   "cell_type": "code",
   "execution_count": null,
   "id": "e58c9565-57fd-4fa7-82d1-ad6c89049359",
   "metadata": {},
   "outputs": [],
   "source": [
    "import seaborn as sns\n",
    "\n",
    "\n",
    "i3skip = df[df[\"public\"] == keyspace[str(skip_isogeny(private, 0))]]\n",
    "i5skip = df[df[\"public\"] == keyspace[str(skip_isogeny(private, 1))]]\n",
    "i7skip = df[df[\"public\"] == keyspace[str(skip_isogeny(private, 2))]]\n",
    "\n",
    "data = {\n",
    "    'time': list(i3skip[\"scope.glitch.ext_offset\"]) + list(i5skip[\"scope.glitch.ext_offset\"]) + list(i7skip[\"scope.glitch.ext_offset\"]),\n",
    "    'y': len(i3skip) * [1] + len(i5skip) * [0] + len(i7skip) * [-1],\n",
    "    'type': len(i3skip) * ['3-isogeny skip'] + len(i5skip) * ['5-isogeny skip'] + len(i7skip) * ['7-isogeny skip']\n",
    "}\n",
    "\n",
    "df = pd.DataFrame(data)\n",
    "sns.scatterplot(data=df, x='time', y='y', hue='type', style='type', s=100)"
   ]
  },
  {
   "cell_type": "code",
   "execution_count": null,
   "id": "b4454077-48b2-4d6b-8be9-e064218d82f1",
   "metadata": {},
   "outputs": [],
   "source": [
    "sns.histplot(data=df, x='time', stat=\"count\", multiple=\"stack\"\n",
    "             , kde=False, palette=\"pastel\", element=\"bars\", hue='type', bins=5)"
   ]
  },
  {
   "cell_type": "code",
   "execution_count": null,
   "id": "9bc109bf-85a3-4ee5-b158-c82f2ec756a8",
   "metadata": {},
   "outputs": [],
   "source": [
    "statistics"
   ]
  },
  {
   "cell_type": "markdown",
   "id": "bf0ec950-c8c5-42a3-aee7-6c5c67d9156c",
   "metadata": {},
   "source": [
    "## Second dataset - key = [10, 0 0]\n",
    "\n"
   ]
  },
  {
   "cell_type": "code",
   "execution_count": null,
   "id": "e2a7d450-40b5-4306-9adf-229dc9e1ff8f",
   "metadata": {},
   "outputs": [],
   "source": [
    "private = [10, 0, 0]\n",
    "expected_public = 295\n",
    "df = datasets[\"dummy\"][str(private)][\"attack1\"]\n",
    "df\n",
    "\n",
    "statistics = {}\n",
    "statistics[\"total\"] = len(df)\n",
    "statistics[\"mutes\"] = len(df[df[\"good/bad/crash\"] == \"crash\"])\n",
    "statistics[\"good public\"] = len(df[df[\"good/bad/crash\"] == \"good\"])\n",
    "statistics[\"bad public\"] = len(df[df[\"good/bad/crash\"] == \"bad\"])\n",
    "\n",
    "statistics[\"skipped 3-isogeny\"] = len(df[df[\"public\"] == keyspace[str(skip_isogeny(private, 0))]])\n",
    "#statistics[\"skipped 5-isogeny\"] = len(df[df[\"public\"] == keyspace[str(skip_isogeny(private, 1))]])\n",
    "#statistics[\"skipped 7-isogeny\"] = len(df[df[\"public\"] == keyspace[str(skip_isogeny(private, 2))]])\n",
    "\n",
    "df = df.dropna()\n",
    "df[\"possible\"] = df[\"public\"].isin(keyspace.values())\n",
    "statistics[\"impossible public\"] = len(df[df[\"possible\"] == False])"
   ]
  },
  {
   "cell_type": "code",
   "execution_count": null,
   "id": "9aaefef7-3b6e-46f6-99f5-8203984bfb72",
   "metadata": {},
   "outputs": [],
   "source": [
    "statistics"
   ]
  },
  {
   "cell_type": "code",
   "execution_count": null,
   "id": "2231b42f-c2b9-4130-bb08-eec36e59925a",
   "metadata": {},
   "outputs": [],
   "source": [
    "import seaborn as sns\n",
    "\n",
    "\n",
    "i3skip = df[df[\"public\"] == keyspace[str(skip_isogeny(private, 0))]]\n",
    "#i5skip = df[df[\"public\"] == keyspace[str(skip_isogeny(private, 1))]]\n",
    "#i7skip = df[df[\"public\"] == keyspace[str(skip_isogeny(private, 2))]]\n",
    "\n",
    "data = {\n",
    "    'time': list(i3skip[\"scope.glitch.ext_offset\"]), #+ list(i5skip[\"scope.glitch.ext_offset\"]) + list(i7skip[\"scope.glitch.ext_offset\"]),\n",
    "    'y': len(i3skip) * [1], #+ len(i5skip) * [0] + len(i7skip) * [-1],\n",
    "    'type': len(i3skip) * ['3-isogeny skip'],# + len(i5skip) * ['5-isogeny skip'] + len(i7skip) * ['7-isogeny skip']\n",
    "}\n",
    "\n",
    "df = pd.DataFrame(data)\n",
    "sns.scatterplot(data=df, x='time', y='y', hue='type', style='type', s=100)"
   ]
  },
  {
   "cell_type": "code",
   "execution_count": null,
   "id": "3644d594-06d3-43b3-a071-ed145529f7e4",
   "metadata": {},
   "outputs": [],
   "source": [
    "sns.histplot(data=df, x='time', bins=5)"
   ]
  },
  {
   "cell_type": "markdown",
   "id": "e33cb7cd-d59c-400b-b92e-2d2864850f26",
   "metadata": {},
   "source": [
    "# Attack 2"
   ]
  },
  {
   "cell_type": "code",
   "execution_count": null,
   "id": "a8c5a596-4c2a-40b7-b007-3ea9e4623bf4",
   "metadata": {},
   "outputs": [],
   "source": [
    "private = [10, -10, 10]\n",
    "df = datasets[\"dummy\"][str(private)][\"attack2\"]\n",
    "df\n",
    "\n",
    "statistics = {}\n",
    "statistics[\"total\"] = len(df)\n",
    "statistics[\"mutes\"] = len(df[df[\"good/bad/crash\"] == \"crash\"])\n",
    "statistics[\"good public\"] = len(df[df[\"good/bad/crash\"] == \"good\"])\n",
    "statistics[\"bad public\"] = len(df[df[\"good/bad/crash\"] == \"bad\"])\n",
    "\n",
    "statistics[\"skipped 3-isogeny\"] = len(df[df[\"public\"] == keyspace[str(skip_isogeny(private, 0))]])\n",
    "statistics[\"skipped 5-isogeny\"] = len(df[df[\"public\"] == keyspace[str(skip_isogeny(private, 1))]])\n",
    "statistics[\"skipped 7-isogeny\"] = len(df[df[\"public\"] == keyspace[str(skip_isogeny(private, 2))]])\n",
    "\n",
    "df = df.dropna()\n",
    "df[\"possible\"] = df[\"public\"].isin(keyspace.values())\n",
    "statistics[\"impossible public\"] = len(df[df[\"possible\"] == False])"
   ]
  },
  {
   "cell_type": "code",
   "execution_count": null,
   "id": "41c9f940-1949-40d1-a00a-4a768964ea15",
   "metadata": {},
   "outputs": [],
   "source": [
    "statistics"
   ]
  },
  {
   "cell_type": "code",
   "execution_count": null,
   "id": "3c3b07d6-7e06-421f-8377-267511e1ea33",
   "metadata": {},
   "outputs": [],
   "source": [
    "private = [10, -10, 0]\n",
    "df = datasets[\"dummy\"][str(private)][\"attack2\"]\n",
    "df\n",
    "\n",
    "statistics = {}\n",
    "statistics[\"total\"] = len(df)\n",
    "statistics[\"mutes\"] = len(df[df[\"good/bad/crash\"] == \"crash\"])\n",
    "statistics[\"good public\"] = len(df[df[\"good/bad/crash\"] == \"good\"])\n",
    "statistics[\"bad public\"] = len(df[df[\"good/bad/crash\"] == \"bad\"])\n",
    "\n",
    "statistics[\"skipped 3-isogeny\"] = len(df[df[\"public\"] == keyspace[str(skip_isogeny(private, 0))]])\n",
    "statistics[\"skipped 5-isogeny\"] = len(df[df[\"public\"] == keyspace[str(skip_isogeny(private, 1))]])\n",
    "#statistics[\"skipped 7-isogeny\"] = len(df[df[\"public\"] == keyspace[str(skip_isogeny(private, 2))]])\n",
    "\n",
    "df = df.dropna()\n",
    "df[\"possible\"] = df[\"public\"].isin(keyspace.values())\n",
    "statistics[\"impossible public\"] = len(df[df[\"possible\"] == False])"
   ]
  },
  {
   "cell_type": "code",
   "execution_count": null,
   "id": "e7f2ea4a-70f2-48b1-abba-74ad928d3055",
   "metadata": {},
   "outputs": [],
   "source": [
    "statistics"
   ]
  },
  {
   "cell_type": "code",
   "execution_count": null,
   "id": "b3a3b2a5-1ae6-4d66-a9e0-4e8e28a29879",
   "metadata": {},
   "outputs": [],
   "source": []
  }
 ],
 "metadata": {
  "kernelspec": {
   "display_name": "Python 3 (ipykernel)",
   "language": "python",
   "name": "python3"
  },
  "language_info": {
   "codemirror_mode": {
    "name": "ipython",
    "version": 3
   },
   "file_extension": ".py",
   "mimetype": "text/x-python",
   "name": "python",
   "nbconvert_exporter": "python",
   "pygments_lexer": "ipython3",
   "version": "3.11.4"
  }
 },
 "nbformat": 4,
 "nbformat_minor": 5
}
