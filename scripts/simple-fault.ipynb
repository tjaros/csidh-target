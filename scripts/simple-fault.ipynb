{
 "cells": [
  {
   "attachments": {},
   "cell_type": "markdown",
   "id": "d7ca3cd3",
   "metadata": {},
   "source": [
    "## Simple faults - Attacker model 1 \n",
    "\n",
    "Here we start to play around with the fault attacks on CSIDH."
   ]
  },
  {
   "cell_type": "code",
   "execution_count": 1,
   "id": "fb8eb1af-4c92-4db2-9e06-2d657c0d0146",
   "metadata": {},
   "outputs": [],
   "source": [
    "from csidh import CSIDH\n",
    "import chipwhisperer as cw\n",
    "import time"
   ]
  },
  {
   "cell_type": "code",
   "execution_count": 2,
   "id": "aef347d1-20b0-4de8-9634-6cb2b266bd0b",
   "metadata": {},
   "outputs": [],
   "source": [
    "PATH = '/home/tjaros/Documents/thesis/csidh-target/src/'\n",
    "csidh = CSIDH(PATH)"
   ]
  },
  {
   "cell_type": "code",
   "execution_count": 3,
   "id": "18678b31",
   "metadata": {},
   "outputs": [],
   "source": [
    "csidh.setup()"
   ]
  },
  {
   "cell_type": "code",
   "execution_count": 5,
   "id": "61c029b0-ff20-42f9-9e96-2ab4bf67a6b5",
   "metadata": {},
   "outputs": [
    {
     "name": "stderr",
     "output_type": "stream",
     "text": [
      "simpleserial/Makefile.simpleserial:24: *** Invalid SimpleSerial version: {self.SS_VER}; allowed verions: \n",
      "  +---------+--------------+\n",
      "  | Version | SS_VER value |\n",
      "  +---------+--------------+\n",
      "  | V1.0    | SS_VER_1_0   |\n",
      "  | V1.1    | SS_VER_1_1   |\n",
      "  | V2.1    | SS_VER_2_1   |\n",
      "  +---------+--------------+\n",
      ".  Stop.\n"
     ]
    },
    {
     "name": "stdout",
     "output_type": "stream",
     "text": [
      "SS_VER set to SS_VER_2_1\n",
      "rm -f -- main-CWLITEARM.hex\n",
      "rm -f -- main-CWLITEARM.eep\n",
      "rm -f -- main-CWLITEARM.cof\n",
      "rm -f -- main-CWLITEARM.elf\n",
      "rm -f -- main-CWLITEARM.map\n",
      "rm -f -- main-CWLITEARM.sym\n",
      "rm -f -- main-CWLITEARM.lss\n",
      "rm -f -- objdir/*.o\n",
      "rm -f -- objdir/*.lst\n",
      "rm -f -- main.s csidh.s fp.s mont.s randombytes.s uint.s parametrization.s simpleserial.s stm32f3_hal.s stm32f3_hal_lowlevel.s stm32f3_sysmem.s\n",
      "rm -f -- main.d csidh.d fp.d mont.d randombytes.d uint.d parametrization.d simpleserial.d stm32f3_hal.d stm32f3_hal_lowlevel.d stm32f3_sysmem.d\n",
      "rm -f -- main.i csidh.i fp.i mont.i randombytes.i uint.i parametrization.i simpleserial.i stm32f3_hal.i stm32f3_hal_lowlevel.i stm32f3_sysmem.i\n",
      ".\n",
      "-------- begin --------\n",
      "arm-none-eabi-gcc (Arm GNU Toolchain 12.2.Rel1 (Build arm-12.24)) 12.2.1 20221205\n",
      "Copyright (C) 2022 Free Software Foundation, Inc.\n",
      "This is free software; see the source for copying conditions.  There is NO\n",
      "warranty; not even for MERCHANTABILITY or FITNESS FOR A PARTICULAR PURPOSE.\n",
      "\n",
      ".\n",
      "Compiling C: main.c\n",
      "arm-none-eabi-gcc -c -mcpu=cortex-m4 -I. -DTRACE -DF419 -mthumb -mfloat-abi=soft -fmessage-length=0 -ffunction-sections -gdwarf-2 -DSS_VER=SS_VER_2_1 -DSTM32F303xC -DSTM32F3 -DSTM32 -DDEBUG -DHAL_TYPE=HAL_stm32f3 -DPLATFORM=CWLITEARM -DF_CPU=7372800UL -Os -funsigned-char -funsigned-bitfields -fshort-enums -Wall -Wstrict-prototypes -Wa,-adhlns=objdir/main.lst -I./simpleserial/ -I./hal -I./hal/stm32f3 -I./hal/stm32f3/CMSIS -I./hal/stm32f3/CMSIS/core -I./hal/stm32f3/CMSIS/device -I./hal/stm32f4/Legacy -std=gnu99 -MMD -MP -MF .dep/main.o.d main.c -o objdir/main.o \n",
      ".\n",
      "Compiling C: csidh.c\n",
      "arm-none-eabi-gcc -c -mcpu=cortex-m4 -I. -DTRACE -DF419 -mthumb -mfloat-abi=soft -fmessage-length=0 -ffunction-sections -gdwarf-2 -DSS_VER=SS_VER_2_1 -DSTM32F303xC -DSTM32F3 -DSTM32 -DDEBUG -DHAL_TYPE=HAL_stm32f3 -DPLATFORM=CWLITEARM -DF_CPU=7372800UL -Os -funsigned-char -funsigned-bitfields -fshort-enums -Wall -Wstrict-prototypes -Wa,-adhlns=objdir/csidh.lst -I./simpleserial/ -I./hal -I./hal/stm32f3 -I./hal/stm32f3/CMSIS -I./hal/stm32f3/CMSIS/core -I./hal/stm32f3/CMSIS/device -I./hal/stm32f4/Legacy -std=gnu99 -MMD -MP -MF .dep/csidh.o.d csidh.c -o objdir/csidh.o \n",
      ".\n",
      "Compiling C: fp.c\n",
      "arm-none-eabi-gcc -c -mcpu=cortex-m4 -I. -DTRACE -DF419 -mthumb -mfloat-abi=soft -fmessage-length=0 -ffunction-sections -gdwarf-2 -DSS_VER=SS_VER_2_1 -DSTM32F303xC -DSTM32F3 -DSTM32 -DDEBUG -DHAL_TYPE=HAL_stm32f3 -DPLATFORM=CWLITEARM -DF_CPU=7372800UL -Os -funsigned-char -funsigned-bitfields -fshort-enums -Wall -Wstrict-prototypes -Wa,-adhlns=objdir/fp.lst -I./simpleserial/ -I./hal -I./hal/stm32f3 -I./hal/stm32f3/CMSIS -I./hal/stm32f3/CMSIS/core -I./hal/stm32f3/CMSIS/device -I./hal/stm32f4/Legacy -std=gnu99 -MMD -MP -MF .dep/fp.o.d fp.c -o objdir/fp.o \n",
      ".\n",
      "Compiling C: mont.c\n",
      "arm-none-eabi-gcc -c -mcpu=cortex-m4 -I. -DTRACE -DF419 -mthumb -mfloat-abi=soft -fmessage-length=0 -ffunction-sections -gdwarf-2 -DSS_VER=SS_VER_2_1 -DSTM32F303xC -DSTM32F3 -DSTM32 -DDEBUG -DHAL_TYPE=HAL_stm32f3 -DPLATFORM=CWLITEARM -DF_CPU=7372800UL -Os -funsigned-char -funsigned-bitfields -fshort-enums -Wall -Wstrict-prototypes -Wa,-adhlns=objdir/mont.lst -I./simpleserial/ -I./hal -I./hal/stm32f3 -I./hal/stm32f3/CMSIS -I./hal/stm32f3/CMSIS/core -I./hal/stm32f3/CMSIS/device -I./hal/stm32f4/Legacy -std=gnu99 -MMD -MP -MF .dep/mont.o.d mont.c -o objdir/mont.o \n",
      ".\n",
      "Compiling C: randombytes.c\n",
      "arm-none-eabi-gcc -c -mcpu=cortex-m4 -I. -DTRACE -DF419 -mthumb -mfloat-abi=soft -fmessage-length=0 -ffunction-sections -gdwarf-2 -DSS_VER=SS_VER_2_1 -DSTM32F303xC -DSTM32F3 -DSTM32 -DDEBUG -DHAL_TYPE=HAL_stm32f3 -DPLATFORM=CWLITEARM -DF_CPU=7372800UL -Os -funsigned-char -funsigned-bitfields -fshort-enums -Wall -Wstrict-prototypes -Wa,-adhlns=objdir/randombytes.lst -I./simpleserial/ -I./hal -I./hal/stm32f3 -I./hal/stm32f3/CMSIS -I./hal/stm32f3/CMSIS/core -I./hal/stm32f3/CMSIS/device -I./hal/stm32f4/Legacy -std=gnu99 -MMD -MP -MF .dep/randombytes.o.d randombytes.c -o objdir/randombytes.o \n",
      ".\n",
      "Compiling C: uint.c\n",
      "arm-none-eabi-gcc -c -mcpu=cortex-m4 -I. -DTRACE -DF419 -mthumb -mfloat-abi=soft -fmessage-length=0 -ffunction-sections -gdwarf-2 -DSS_VER=SS_VER_2_1 -DSTM32F303xC -DSTM32F3 -DSTM32 -DDEBUG -DHAL_TYPE=HAL_stm32f3 -DPLATFORM=CWLITEARM -DF_CPU=7372800UL -Os -funsigned-char -funsigned-bitfields -fshort-enums -Wall -Wstrict-prototypes -Wa,-adhlns=objdir/uint.lst -I./simpleserial/ -I./hal -I./hal/stm32f3 -I./hal/stm32f3/CMSIS -I./hal/stm32f3/CMSIS/core -I./hal/stm32f3/CMSIS/device -I./hal/stm32f4/Legacy -std=gnu99 -MMD -MP -MF .dep/uint.o.d uint.c -o objdir/uint.o \n",
      ".\n",
      "Compiling C: parametrization.c\n",
      "arm-none-eabi-gcc -c -mcpu=cortex-m4 -I. -DTRACE -DF419 -mthumb -mfloat-abi=soft -fmessage-length=0 -ffunction-sections -gdwarf-2 -DSS_VER=SS_VER_2_1 -DSTM32F303xC -DSTM32F3 -DSTM32 -DDEBUG -DHAL_TYPE=HAL_stm32f3 -DPLATFORM=CWLITEARM -DF_CPU=7372800UL -Os -funsigned-char -funsigned-bitfields -fshort-enums -Wall -Wstrict-prototypes -Wa,-adhlns=objdir/parametrization.lst -I./simpleserial/ -I./hal -I./hal/stm32f3 -I./hal/stm32f3/CMSIS -I./hal/stm32f3/CMSIS/core -I./hal/stm32f3/CMSIS/device -I./hal/stm32f4/Legacy -std=gnu99 -MMD -MP -MF .dep/parametrization.o.d parametrization.c -o objdir/parametrization.o \n",
      ".\n",
      "Compiling C: ./simpleserial/simpleserial.c\n",
      "arm-none-eabi-gcc -c -mcpu=cortex-m4 -I. -DTRACE -DF419 -mthumb -mfloat-abi=soft -fmessage-length=0 -ffunction-sections -gdwarf-2 -DSS_VER=SS_VER_2_1 -DSTM32F303xC -DSTM32F3 -DSTM32 -DDEBUG -DHAL_TYPE=HAL_stm32f3 -DPLATFORM=CWLITEARM -DF_CPU=7372800UL -Os -funsigned-char -funsigned-bitfields -fshort-enums -Wall -Wstrict-prototypes -Wa,-adhlns=objdir/simpleserial.lst -I./simpleserial/ -I./hal -I./hal/stm32f3 -I./hal/stm32f3/CMSIS -I./hal/stm32f3/CMSIS/core -I./hal/stm32f3/CMSIS/device -I./hal/stm32f4/Legacy -std=gnu99 -MMD -MP -MF .dep/simpleserial.o.d ./simpleserial/simpleserial.c -o objdir/simpleserial.o \n",
      ".\n",
      "Compiling C: ./hal/stm32f3/stm32f3_hal.c\n",
      "arm-none-eabi-gcc -c -mcpu=cortex-m4 -I. -DTRACE -DF419 -mthumb -mfloat-abi=soft -fmessage-length=0 -ffunction-sections -gdwarf-2 -DSS_VER=SS_VER_2_1 -DSTM32F303xC -DSTM32F3 -DSTM32 -DDEBUG -DHAL_TYPE=HAL_stm32f3 -DPLATFORM=CWLITEARM -DF_CPU=7372800UL -Os -funsigned-char -funsigned-bitfields -fshort-enums -Wall -Wstrict-prototypes -Wa,-adhlns=objdir/stm32f3_hal.lst -I./simpleserial/ -I./hal -I./hal/stm32f3 -I./hal/stm32f3/CMSIS -I./hal/stm32f3/CMSIS/core -I./hal/stm32f3/CMSIS/device -I./hal/stm32f4/Legacy -std=gnu99 -MMD -MP -MF .dep/stm32f3_hal.o.d ./hal/stm32f3/stm32f3_hal.c -o objdir/stm32f3_hal.o \n",
      ".\n",
      "Compiling C: ./hal/stm32f3/stm32f3_hal_lowlevel.c\n",
      "arm-none-eabi-gcc -c -mcpu=cortex-m4 -I. -DTRACE -DF419 -mthumb -mfloat-abi=soft -fmessage-length=0 -ffunction-sections -gdwarf-2 -DSS_VER=SS_VER_2_1 -DSTM32F303xC -DSTM32F3 -DSTM32 -DDEBUG -DHAL_TYPE=HAL_stm32f3 -DPLATFORM=CWLITEARM -DF_CPU=7372800UL -Os -funsigned-char -funsigned-bitfields -fshort-enums -Wall -Wstrict-prototypes -Wa,-adhlns=objdir/stm32f3_hal_lowlevel.lst -I./simpleserial/ -I./hal -I./hal/stm32f3 -I./hal/stm32f3/CMSIS -I./hal/stm32f3/CMSIS/core -I./hal/stm32f3/CMSIS/device -I./hal/stm32f4/Legacy -std=gnu99 -MMD -MP -MF .dep/stm32f3_hal_lowlevel.o.d ./hal/stm32f3/stm32f3_hal_lowlevel.c -o objdir/stm32f3_hal_lowlevel.o \n",
      ".\n",
      "Compiling C: ./hal/stm32f3/stm32f3_sysmem.c\n",
      "arm-none-eabi-gcc -c -mcpu=cortex-m4 -I. -DTRACE -DF419 -mthumb -mfloat-abi=soft -fmessage-length=0 -ffunction-sections -gdwarf-2 -DSS_VER=SS_VER_2_1 -DSTM32F303xC -DSTM32F3 -DSTM32 -DDEBUG -DHAL_TYPE=HAL_stm32f3 -DPLATFORM=CWLITEARM -DF_CPU=7372800UL -Os -funsigned-char -funsigned-bitfields -fshort-enums -Wall -Wstrict-prototypes -Wa,-adhlns=objdir/stm32f3_sysmem.lst -I./simpleserial/ -I./hal -I./hal/stm32f3 -I./hal/stm32f3/CMSIS -I./hal/stm32f3/CMSIS/core -I./hal/stm32f3/CMSIS/device -I./hal/stm32f4/Legacy -std=gnu99 -MMD -MP -MF .dep/stm32f3_sysmem.o.d ./hal/stm32f3/stm32f3_sysmem.c -o objdir/stm32f3_sysmem.o \n",
      ".\n",
      "Assembling: ./hal/stm32f3/stm32f3_startup.S\n",
      "arm-none-eabi-gcc -c -mcpu=cortex-m4 -I. -x assembler-with-cpp -mthumb -mfloat-abi=soft -fmessage-length=0 -ffunction-sections -DF_CPU=7372800 -Wa,-gstabs,-adhlns=objdir/stm32f3_startup.lst -I./simpleserial/ -I./hal -I./hal/stm32f3 -I./hal/stm32f3/CMSIS -I./hal/stm32f3/CMSIS/core -I./hal/stm32f3/CMSIS/device -I./hal/stm32f4/Legacy ./hal/stm32f3/stm32f3_startup.S -o objdir/stm32f3_startup.o\n",
      ".\n",
      "Linking: main-CWLITEARM.elf\n",
      "arm-none-eabi-gcc -mcpu=cortex-m4 -I. -DTRACE -DF419 -mthumb -mfloat-abi=soft -fmessage-length=0 -ffunction-sections -gdwarf-2 -DSS_VER=SS_VER_2_1 -DSTM32F303xC -DSTM32F3 -DSTM32 -DDEBUG -DHAL_TYPE=HAL_stm32f3 -DPLATFORM=CWLITEARM -DF_CPU=7372800UL -Os -funsigned-char -funsigned-bitfields -fshort-enums -Wall -Wstrict-prototypes -Wa,-adhlns=objdir/main.o -I./simpleserial/ -I./hal -I./hal/stm32f3 -I./hal/stm32f3/CMSIS -I./hal/stm32f3/CMSIS/core -I./hal/stm32f3/CMSIS/device -I./hal/stm32f4/Legacy -std=gnu99 -MMD -MP -MF .dep/main-CWLITEARM.elf.d objdir/main.o objdir/csidh.o objdir/fp.o objdir/mont.o objdir/randombytes.o objdir/uint.o objdir/parametrization.o objdir/simpleserial.o objdir/stm32f3_hal.o objdir/stm32f3_hal_lowlevel.o objdir/stm32f3_sysmem.o objdir/stm32f3_startup.o --output main-CWLITEARM.elf --specs=nano.specs --specs=nosys.specs -T ./hal/stm32f3/LinkerScript.ld -Wl,--gc-sections -lm -Wl,-Map=main-CWLITEARM.map,--cref   -lm  \n",
      ".\n",
      "Creating load file for Flash: main-CWLITEARM.hex\n",
      "arm-none-eabi-objcopy -O ihex -R .eeprom -R .fuse -R .lock -R .signature main-CWLITEARM.elf main-CWLITEARM.hex\n",
      ".\n",
      "Creating load file for EEPROM: main-CWLITEARM.eep\n",
      "arm-none-eabi-objcopy -j .eeprom --set-section-flags=.eeprom=\"alloc,load\" \\\n",
      "--change-section-lma .eeprom=0 --no-change-warnings -O ihex main-CWLITEARM.elf main-CWLITEARM.eep || exit 0\n",
      ".\n",
      "Creating Extended Listing: main-CWLITEARM.lss\n",
      "arm-none-eabi-objdump -h -S -z main-CWLITEARM.elf > main-CWLITEARM.lss\n",
      ".\n",
      "Creating Symbol Table: main-CWLITEARM.sym\n",
      "arm-none-eabi-nm -n main-CWLITEARM.elf > main-CWLITEARM.sym\n",
      "Size after:\n",
      "   text\t   data\t    bss\t    dec\t    hex\tfilename\n",
      "  15140\t    112\t   1816\t  17068\t   42ac\tmain-CWLITEARM.elf\n",
      "+--------------------------------------------------------\n",
      "+ Built for platform CW-Lite Arm (STM32F3)\n",
      "+--------------------------------------------------------\n"
     ]
    },
    {
     "name": "stderr",
     "output_type": "stream",
     "text": [
      "/nix/store/8w6rddmpg7b1xg2sysjq7kz0aqfpvw12-gcc-arm-embedded-12.2.rel1/bin/../lib/gcc/arm-none-eabi/12.2.1/../../../../arm-none-eabi/bin/ld: /nix/store/8w6rddmpg7b1xg2sysjq7kz0aqfpvw12-gcc-arm-embedded-12.2.rel1/bin/../lib/gcc/arm-none-eabi/12.2.1/../../../../arm-none-eabi/lib/thumb/v7e-m/nofp/libg_nano.a(libc_a-closer.o): in function `_close_r':\n",
      "closer.c:(.text._close_r+0xc): warning: _close is not implemented and will always fail\n",
      "/nix/store/8w6rddmpg7b1xg2sysjq7kz0aqfpvw12-gcc-arm-embedded-12.2.rel1/bin/../lib/gcc/arm-none-eabi/12.2.1/../../../../arm-none-eabi/bin/ld: /nix/store/8w6rddmpg7b1xg2sysjq7kz0aqfpvw12-gcc-arm-embedded-12.2.rel1/bin/../lib/gcc/arm-none-eabi/12.2.1/../../../../arm-none-eabi/lib/thumb/v7e-m/nofp/libg_nano.a(libc_a-fstatr.o): in function `_fstat_r':\n",
      "fstatr.c:(.text._fstat_r+0xe): warning: _fstat is not implemented and will always fail\n",
      "/nix/store/8w6rddmpg7b1xg2sysjq7kz0aqfpvw12-gcc-arm-embedded-12.2.rel1/bin/../lib/gcc/arm-none-eabi/12.2.1/../../../../arm-none-eabi/bin/ld: /nix/store/8w6rddmpg7b1xg2sysjq7kz0aqfpvw12-gcc-arm-embedded-12.2.rel1/bin/../lib/gcc/arm-none-eabi/12.2.1/../../../../arm-none-eabi/lib/thumb/v7e-m/nofp/libg_nano.a(libc_a-signalr.o): in function `_getpid_r':\n",
      "signalr.c:(.text._getpid_r+0x0): warning: _getpid is not implemented and will always fail\n",
      "/nix/store/8w6rddmpg7b1xg2sysjq7kz0aqfpvw12-gcc-arm-embedded-12.2.rel1/bin/../lib/gcc/arm-none-eabi/12.2.1/../../../../arm-none-eabi/bin/ld: /nix/store/8w6rddmpg7b1xg2sysjq7kz0aqfpvw12-gcc-arm-embedded-12.2.rel1/bin/../lib/gcc/arm-none-eabi/12.2.1/../../../../arm-none-eabi/lib/thumb/v7e-m/nofp/libg_nano.a(libc_a-isattyr.o): in function `_isatty_r':\n",
      "isattyr.c:(.text._isatty_r+0xc): warning: _isatty is not implemented and will always fail\n",
      "/nix/store/8w6rddmpg7b1xg2sysjq7kz0aqfpvw12-gcc-arm-embedded-12.2.rel1/bin/../lib/gcc/arm-none-eabi/12.2.1/../../../../arm-none-eabi/bin/ld: /nix/store/8w6rddmpg7b1xg2sysjq7kz0aqfpvw12-gcc-arm-embedded-12.2.rel1/bin/../lib/gcc/arm-none-eabi/12.2.1/../../../../arm-none-eabi/lib/thumb/v7e-m/nofp/libg_nano.a(libc_a-signalr.o): in function `_kill_r':\n",
      "signalr.c:(.text._kill_r+0xe): warning: _kill is not implemented and will always fail\n",
      "/nix/store/8w6rddmpg7b1xg2sysjq7kz0aqfpvw12-gcc-arm-embedded-12.2.rel1/bin/../lib/gcc/arm-none-eabi/12.2.1/../../../../arm-none-eabi/bin/ld: /nix/store/8w6rddmpg7b1xg2sysjq7kz0aqfpvw12-gcc-arm-embedded-12.2.rel1/bin/../lib/gcc/arm-none-eabi/12.2.1/../../../../arm-none-eabi/lib/thumb/v7e-m/nofp/libg_nano.a(libc_a-lseekr.o): in function `_lseek_r':\n",
      "lseekr.c:(.text._lseek_r+0x10): warning: _lseek is not implemented and will always fail\n",
      "/nix/store/8w6rddmpg7b1xg2sysjq7kz0aqfpvw12-gcc-arm-embedded-12.2.rel1/bin/../lib/gcc/arm-none-eabi/12.2.1/../../../../arm-none-eabi/bin/ld: /nix/store/8w6rddmpg7b1xg2sysjq7kz0aqfpvw12-gcc-arm-embedded-12.2.rel1/bin/../lib/gcc/arm-none-eabi/12.2.1/../../../../arm-none-eabi/lib/thumb/v7e-m/nofp/libg_nano.a(libc_a-readr.o): in function `_read_r':\n",
      "readr.c:(.text._read_r+0x10): warning: _read is not implemented and will always fail\n",
      "/nix/store/8w6rddmpg7b1xg2sysjq7kz0aqfpvw12-gcc-arm-embedded-12.2.rel1/bin/../lib/gcc/arm-none-eabi/12.2.1/../../../../arm-none-eabi/bin/ld: /nix/store/8w6rddmpg7b1xg2sysjq7kz0aqfpvw12-gcc-arm-embedded-12.2.rel1/bin/../lib/gcc/arm-none-eabi/12.2.1/../../../../arm-none-eabi/lib/thumb/v7e-m/nofp/libg_nano.a(libc_a-writer.o): in function `_write_r':\n",
      "writer.c:(.text._write_r+0x10): warning: _write is not implemented and will always fail\n",
      "/nix/store/8w6rddmpg7b1xg2sysjq7kz0aqfpvw12-gcc-arm-embedded-12.2.rel1/bin/../lib/gcc/arm-none-eabi/12.2.1/../../../../arm-none-eabi/bin/ld: warning: main-CWLITEARM.elf has a LOAD segment with RWX permissions\n"
     ]
    },
    {
     "name": "stdout",
     "output_type": "stream",
     "text": [
      "Detected known STMF32: STM32F302xB(C)/303xB(C)\n",
      "Extended erase (0x44), this can take ten seconds or more\n",
      "Attempting to program 15259 bytes at 0x8000000\n",
      "STM32F Programming flash...\n",
      "STM32F Reading flash...\n",
      "Verified flash OK, 15259 bytes\n"
     ]
    }
   ],
   "source": [
    "csidh.flash_target()"
   ]
  },
  {
   "cell_type": "code",
   "execution_count": 4,
   "id": "2282cfdc",
   "metadata": {},
   "outputs": [],
   "source": [
    "cw.scope_logger.setLevel(cw.logging.WARNING)"
   ]
  },
  {
   "cell_type": "code",
   "execution_count": 5,
   "id": "cbf681bd",
   "metadata": {},
   "outputs": [
    {
     "data": {
      "text/plain": [
       "adc_src       = clkgen_x1\n",
       "adc_phase     = 0\n",
       "adc_freq      = 29538459\n",
       "adc_rate      = 147692.295\n",
       "adc_locked    = True\n",
       "freq_ctr      = 0\n",
       "freq_ctr_src  = extclk\n",
       "clkgen_src    = system\n",
       "extclk_freq   = 10000000\n",
       "clkgen_mul    = 2\n",
       "clkgen_div    = 26\n",
       "clkgen_freq   = 7384615.384615385\n",
       "clkgen_locked = True"
      ]
     },
     "execution_count": 5,
     "metadata": {},
     "output_type": "execute_result"
    }
   ],
   "source": [
    "csidh.scope.clock.adc_src = 'clkgen_x1'\n",
    "csidh.reset_target()\n",
    "csidh.scope.clock"
   ]
  },
  {
   "cell_type": "code",
   "execution_count": 9,
   "id": "3343b3b7",
   "metadata": {},
   "outputs": [
    {
     "name": "stdout",
     "output_type": "stream",
     "text": [
      "413\n"
     ]
    }
   ],
   "source": [
    "csidh.reset_target()\n",
    "csidh.private = [4, 0, 0]\n",
    "csidh.public  = 0\n",
    "csidh.action()\n",
    "csidh.private = [5, 0, 0]\n",
    "csidh.scope.arm()\n",
    "csidh.action()\n",
    "ret = csidh.scope.capture()\n",
    "if ret:\n",
    "    print(\"Timeout happened during acquisition\")\n",
    "\n",
    "public_correct = csidh.public_with_errors\n",
    "print(public_correct)"
   ]
  },
  {
   "cell_type": "code",
   "execution_count": 10,
   "id": "cf18174d",
   "metadata": {},
   "outputs": [
    {
     "name": "stdout",
     "output_type": "stream",
     "text": [
      "2186467\n"
     ]
    }
   ],
   "source": [
    "print(csidh.scope.adc.trig_count)"
   ]
  },
  {
   "cell_type": "code",
   "execution_count": 11,
   "id": "ff2b1d9e",
   "metadata": {},
   "outputs": [
    {
     "data": {
      "text/plain": [
       "clk_src     = clkgen\n",
       "width       = 5.859375\n",
       "width_fine  = 0\n",
       "offset      = -12.890625\n",
       "offset_fine = 0\n",
       "trigger_src = ext_single\n",
       "arm_timing  = after_scope\n",
       "ext_offset  = 70000\n",
       "repeat      = 5\n",
       "output      = clock_xor"
      ]
     },
     "execution_count": 11,
     "metadata": {},
     "output_type": "execute_result"
    }
   ],
   "source": [
    "csidh.scope.glitch.clk_src = 'clkgen'\n",
    "csidh.scope.glitch.output = \"clock_xor\"\n",
    "csidh.scope.glitch.trigger_src = \"ext_single\"\n",
    "csidh.scope.glitch.repeat = 5\n",
    "# These width/offset numbers are for CW-Lite/Pro; for CW-Husky, convert as per Fault 1_1:\n",
    "csidh.scope.glitch.width = 6\n",
    "csidh.scope.glitch.offset = -13\n",
    "csidh.scope.glitch.ext_offset = 70000\n",
    "csidh.scope.io.hs2 = \"glitch\"\n",
    "csidh.scope.glitch"
   ]
  },
  {
   "cell_type": "code",
   "execution_count": 12,
   "id": "d906899b",
   "metadata": {},
   "outputs": [],
   "source": [
    "from tqdm.notebook import trange\n",
    "import random"
   ]
  },
  {
   "cell_type": "code",
   "execution_count": 13,
   "id": "3148d4fc",
   "metadata": {},
   "outputs": [
    {
     "data": {
      "application/vnd.jupyter.widget-view+json": {
       "model_id": "060a6e41639b4851bced4ebeb97ae923",
       "version_major": 2,
       "version_minor": 0
      },
      "text/plain": [
       "  0%|          | 0/599 [00:00<?, ?it/s]"
      ]
     },
     "metadata": {},
     "output_type": "display_data"
    },
    {
     "name": "stderr",
     "output_type": "stream",
     "text": [
      "(ChipWhisperer Scope ERROR|File OpenADC.py:787) Received fewer points than expected: 24399 vs 24400\n"
     ]
    },
    {
     "name": "stdout",
     "output_type": "stream",
     "text": [
      "Timeout happened during acquisition\n"
     ]
    },
    {
     "name": "stderr",
     "output_type": "stream",
     "text": [
      "(ChipWhisperer Scope ERROR|File OpenADC.py:787) Received fewer points than expected: 24399 vs 24400\n"
     ]
    },
    {
     "name": "stdout",
     "output_type": "stream",
     "text": [
      "Timeout happened during acquisition\n"
     ]
    }
   ],
   "source": [
    "results = []\n",
    "f = open(\"gliches.csv\", \"w\")\n",
    "f.write('\"scope.glitch.width\", \"scope.glitch.offset\", \"scope.glitch.repeat\", \"scope.glitch.ext_offset\", \"good/bad/crash\\n\"')\n",
    "f.flush()\n",
    "\n",
    "for i in trange(1, 600):\n",
    "    csidh.scope.glitch.ext_offset = int(random.uniform(1, 2200000))\n",
    "    csidh.scope.adc.timeout = 5\n",
    "    csidh.reset_target()\n",
    "    csidh.public  = 0\n",
    "    csidh.private = [9, 0, 0]\n",
    "    csidh.scope.arm()\n",
    "    csidh.action()\n",
    "    ret = csidh.scope.capture()\n",
    "    ret = csidh.scope.capture()\n",
    "    if ret:\n",
    "        print(\"Timeout happened during acquisition\")\n",
    "        continue\n",
    "\n",
    "    public_received = csidh.public_with_errors\n",
    "    \n",
    "    if not isinstance(public_received, int):\n",
    "        result = \"crash\"\n",
    "    else:\n",
    "        result = \"good\" if public_received == public_correct else \"bad\"\n",
    "    \n",
    "\n",
    "    f.write(\n",
    "        f\"{csidh.scope.glitch.width},{csidh.scope.glitch.offset},{csidh.scope.glitch.repeat},{result}\\n\"\n",
    "    )\n",
    "    f.flush()\n",
    "\n",
    "\n",
    "\n",
    "    "
   ]
  },
  {
   "cell_type": "code",
   "execution_count": null,
   "id": "f4cdfa06",
   "metadata": {},
   "outputs": [],
   "source": [
    "first_iso_offset = 76000"
   ]
  }
 ],
 "metadata": {
  "kernelspec": {
   "display_name": "Python 3 (ipykernel)",
   "language": "python",
   "name": "python3"
  },
  "language_info": {
   "codemirror_mode": {
    "name": "ipython",
    "version": 3
   },
   "file_extension": ".py",
   "mimetype": "text/x-python",
   "name": "python",
   "nbconvert_exporter": "python",
   "pygments_lexer": "ipython3",
   "version": "3.10.13"
  }
 },
 "nbformat": 4,
 "nbformat_minor": 5
}
