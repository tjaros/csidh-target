{
 "cells": [
  {
   "cell_type": "markdown",
   "id": "bf13237c-aa1a-4348-97f1-6ef0d17cb4f7",
   "metadata": {},
   "source": [
    "## Parameter search visualizations\n",
    "\n",
    "This notebook contains simple visualizations of data collected with glitching\n",
    "script to determine good parameters for Chipwhisperer glitches. \n",
    "\n",
    "As of now, only clock glitching is considered as it is proves most effective."
   ]
  },
  {
   "cell_type": "code",
   "execution_count": null,
   "id": "67c86b73-51cd-47ba-a47d-9b3178b5d564",
   "metadata": {},
   "outputs": [],
   "source": [
    "import pandas as pd\n",
    "import seaborn as sns"
   ]
  },
  {
   "cell_type": "code",
   "execution_count": null,
   "id": "095a8829-a86d-4543-82c3-5daf313f1ef1",
   "metadata": {},
   "outputs": [],
   "source": [
    "df = pd.read_csv(\"data/param-search/003/results-[10,-10,10].csv\", header=0)\n",
    "sns.set(style=\"ticks\")\n",
    "df = df.sort_values(by=[\"good/bad/crash\"], ascending=False)\n",
    "\n",
    "df"
   ]
  },
  {
   "cell_type": "code",
   "execution_count": null,
   "id": "d20e3e9d-cc5b-4210-92af-fb61db209982",
   "metadata": {},
   "outputs": [],
   "source": [
    "sns.displot(data=df[df[\"good/bad/crash\"] == \"bad\"], x=\"scope.glitch.offset\", y=\"scope.glitch.width\", hue='good/bad/crash', bins=30)"
   ]
  },
  {
   "cell_type": "code",
   "execution_count": null,
   "id": "dba5f148-115f-49af-843f-a4d27ee3fbf6",
   "metadata": {},
   "outputs": [],
   "source": [
    "sns.scatterplot(data=df, x=\"scope.glitch.offset\", y=\"scope.glitch.width\", hue='good/bad/crash')"
   ]
  },
  {
   "cell_type": "code",
   "execution_count": null,
   "id": "c4e45135-7cd0-45b2-a3ef-7596bde94dda",
   "metadata": {},
   "outputs": [],
   "source": [
    "sns.displot(data=df[df[\"good/bad/crash\"] == \"bad\"], x=\"scope.glitch.repeat\", y=\"scope.glitch.width\", hue='good/bad/crash', bins=10)"
   ]
  },
  {
   "cell_type": "code",
   "execution_count": null,
   "id": "c30ad2c4-684d-4964-ab5d-34e45059b7cc",
   "metadata": {},
   "outputs": [],
   "source": [
    "sns.displot(data=df[df[\"good/bad/crash\"] == \"bad\"], x=\"scope.glitch.repeat\", y=\"scope.glitch.offset\", hue='good/bad/crash', bins=10)"
   ]
  },
  {
   "cell_type": "code",
   "execution_count": null,
   "id": "c135e7ba-e007-42a6-a2b1-23aeef175062",
   "metadata": {},
   "outputs": [],
   "source": [
    "p = df[df[\"good/bad/crash\"] == \"bad\"].hist(bins=10)"
   ]
  },
  {
   "cell_type": "code",
   "execution_count": null,
   "id": "e7e7ce7a-b00b-42c4-bc12-fcf1baeabdd9",
   "metadata": {},
   "outputs": [],
   "source": [
    "sns.histplot(data=df[df[\"good/bad/crash\"]==\"bad\"], x=\"scope.glitch.width\", bins=20)"
   ]
  },
  {
   "cell_type": "markdown",
   "id": "fb017ea6-9ce2-4067-a329-8960ba60b76f",
   "metadata": {},
   "source": [
    "## Top 15 according to number of successful glitches"
   ]
  },
  {
   "cell_type": "code",
   "execution_count": null,
   "id": "590c1fe8-46f8-4a39-aece-6c0d5dbb0e18",
   "metadata": {},
   "outputs": [],
   "source": [
    "grouped_df = df\n",
    "grouped_df[\"scope.glitch.width\"] = round(grouped_df[\"scope.glitch.width\"])\n",
    "grouped_df[\"scope.glitch.offset\"] = round(grouped_df[\"scope.glitch.offset\"])\n",
    "grouped_df = grouped_df[grouped_df[\"good/bad/crash\"] == \"bad\"].drop([\"scope.glitch.ext_offset\"], axis=1).groupby([\"scope.glitch.width\", \"scope.glitch.offset\"]).count()"
   ]
  },
  {
   "cell_type": "code",
   "execution_count": null,
   "id": "5b563f8e-3c9e-4826-8815-aa0c7bed276e",
   "metadata": {},
   "outputs": [],
   "source": [
    "grouped_df"
   ]
  },
  {
   "cell_type": "code",
   "execution_count": null,
   "id": "4346fbd2-1b99-41f5-b733-0b33b5c2beb0",
   "metadata": {},
   "outputs": [],
   "source": [
    "top15 = grouped_df.sort_values([\"good/bad/crash\"], ascending=False).head(15)"
   ]
  },
  {
   "cell_type": "code",
   "execution_count": null,
   "id": "304a8c98-d62d-4602-93e1-9d8f811fb075",
   "metadata": {},
   "outputs": [],
   "source": [
    "\n",
    "\n",
    "grouped_df = df\n",
    "grouped_df[\"scope.glitch.width\"] = round(grouped_df[\"scope.glitch.width\"])\n",
    "grouped_df[\"scope.glitch.offset\"] = round(grouped_df[\"scope.glitch.offset\"])\n",
    "grouped_df = grouped_df[grouped_df[\"good/bad/crash\"] == \"bad\"].drop([\"scope.glitch.ext_offset\"], axis=1).groupby([\"scope.glitch.width\", \"scope.glitch.offset\", \"scope.glitch.repeat\"]).count()\n"
   ]
  },
  {
   "cell_type": "code",
   "execution_count": null,
   "id": "62712ccd-1752-4968-ae61-ec78227b230c",
   "metadata": {},
   "outputs": [],
   "source": [
    "grouped_df.sort_values([\"good/bad/crash\"], ascending=False).head(15)"
   ]
  },
  {
   "cell_type": "markdown",
   "id": "9e0ba422-be7e-4b8d-af14-0a115bd0fa46",
   "metadata": {},
   "source": [
    "# "
   ]
  }
 ],
 "metadata": {
  "kernelspec": {
   "display_name": "Python 3 (ipykernel)",
   "language": "python",
   "name": "python3"
  },
  "language_info": {
   "codemirror_mode": {
    "name": "ipython",
    "version": 3
   },
   "file_extension": ".py",
   "mimetype": "text/x-python",
   "name": "python",
   "nbconvert_exporter": "python",
   "pygments_lexer": "ipython3",
   "version": "3.10.13"
  }
 },
 "nbformat": 4,
 "nbformat_minor": 5
}
