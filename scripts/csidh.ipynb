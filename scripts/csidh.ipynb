{
 "cells": [
  {
   "cell_type": "code",
   "execution_count": 1,
   "id": "2af6779c-3457-40d2-b70a-1ff5144cdf2d",
   "metadata": {},
   "outputs": [],
   "source": [
    "import chipwhisperer as cw\n",
    "import time \n",
    "import os\n",
    "import sys\n",
    "import struct"
   ]
  },
  {
   "cell_type": "code",
   "execution_count": 2,
   "id": "f136e9ce-c825-4fdb-990b-f2363aab7cc3",
   "metadata": {},
   "outputs": [],
   "source": [
    "SCOPETYPE = 'OPENADC'\n",
    "PLATFORM = 'CWLITEARM'\n",
    "SS_VER = 'SS_VER_2_1'\n",
    "CRYPTO_TARGET = \"NONE\"\n",
    "BIN = 'main-CWLITEARM.hex'\n",
    "\n",
    "PATH = '/home/tjaros/Documents/thesis/csidh-target/src/'"
   ]
  },
  {
   "cell_type": "code",
   "execution_count": 3,
   "id": "b4758c8f-87d2-4c58-872e-ecf25de8f3f4",
   "metadata": {},
   "outputs": [],
   "source": [
    "def reset_target(scope):\n",
    "    scope.io.nrst = 'low'\n",
    "    time.sleep(0.05)\n",
    "    scope.io.nrst = 'high'\n",
    "    time.sleep(0.05)"
   ]
  },
  {
   "cell_type": "code",
   "execution_count": 4,
   "id": "1345f7c3-7e20-46c9-ae07-cdde1fa1bf3d",
   "metadata": {},
   "outputs": [],
   "source": [
    "# Setup our capture and target boards.\n",
    "########################################\n",
    "scope = cw.scope()\n",
    "scope.default_setup()\n",
    "target = cw.target(scope, cw.targets.SimpleSerial2, flush_on_err=False)\n",
    "########################################\n",
    "prog = cw.programmers.STM32FProgrammer\n",
    "\n",
    "time.sleep(0.1)\n",
    "scope.default_setup()"
   ]
  },
  {
   "cell_type": "code",
   "execution_count": 5,
   "id": "8a0f5fe3-05f0-4a9a-8f52-a40f850c18d9",
   "metadata": {
    "scrolled": true
   },
   "outputs": [
    {
     "name": "stderr",
     "output_type": "stream",
     "text": [
      "simpleserial/Makefile.simpleserial:24: *** Invalid SimpleSerial version: {SS_VER}; allowed verions: \n",
      "  +---------+--------------+\n",
      "  | Version | SS_VER value |\n",
      "  +---------+--------------+\n",
      "  | V1.0    | SS_VER_1_0   |\n",
      "  | V1.1    | SS_VER_1_1   |\n",
      "  | V2.1    | SS_VER_2_1   |\n",
      "  +---------+--------------+\n",
      ".  Stop.\n"
     ]
    },
    {
     "name": "stdout",
     "output_type": "stream",
     "text": [
      "SS_VER set to SS_VER_2_1\n",
      "rm -f -- main-CWLITEARM.hex\n",
      "rm -f -- main-CWLITEARM.eep\n",
      "rm -f -- main-CWLITEARM.cof\n",
      "rm -f -- main-CWLITEARM.elf\n",
      "rm -f -- main-CWLITEARM.map\n",
      "rm -f -- main-CWLITEARM.sym\n",
      "rm -f -- main-CWLITEARM.lss\n",
      "rm -f -- objdir/*.o\n",
      "rm -f -- objdir/*.lst\n",
      "rm -f -- main.s csidh.s fp.s mont.s randombytes.s uint.s parametrization.s simpleserial.s stm32f3_hal.s stm32f3_hal_lowlevel.s stm32f3_sysmem.s\n",
      "rm -f -- main.d csidh.d fp.d mont.d randombytes.d uint.d parametrization.d simpleserial.d stm32f3_hal.d stm32f3_hal_lowlevel.d stm32f3_sysmem.d\n",
      "rm -f -- main.i csidh.i fp.i mont.i randombytes.i uint.i parametrization.i simpleserial.i stm32f3_hal.i stm32f3_hal_lowlevel.i stm32f3_sysmem.i\n",
      ".\n",
      "-------- begin --------\n",
      "arm-none-eabi-gcc (Arm GNU Toolchain 12.2.Rel1 (Build arm-12.24)) 12.2.1 20221205\n",
      "Copyright (C) 2022 Free Software Foundation, Inc.\n",
      "This is free software; see the source for copying conditions.  There is NO\n",
      "warranty; not even for MERCHANTABILITY or FITNESS FOR A PARTICULAR PURPOSE.\n",
      "\n",
      ".\n",
      "Compiling C: main.c\n",
      "arm-none-eabi-gcc -c -mcpu=cortex-m4 -I. -DTRACE -DF419 -mthumb -mfloat-abi=soft -fmessage-length=0 -ffunction-sections -gdwarf-2 -DSS_VER=SS_VER_2_1 -DSTM32F303xC -DSTM32F3 -DSTM32 -DDEBUG -DHAL_TYPE=HAL_stm32f3 -DPLATFORM=CWLITEARM -DF_CPU=7372800UL -Os -funsigned-char -funsigned-bitfields -fshort-enums -Wall -Wstrict-prototypes -Wa,-adhlns=objdir/main.lst -I./simpleserial/ -I./hal -I./hal/stm32f3 -I./hal/stm32f3/CMSIS -I./hal/stm32f3/CMSIS/core -I./hal/stm32f3/CMSIS/device -I./hal/stm32f4/Legacy -std=gnu99 -MMD -MP -MF .dep/main.o.d main.c -o objdir/main.o \n",
      ".\n",
      "Compiling C: csidh.c\n",
      "arm-none-eabi-gcc -c -mcpu=cortex-m4 -I. -DTRACE -DF419 -mthumb -mfloat-abi=soft -fmessage-length=0 -ffunction-sections -gdwarf-2 -DSS_VER=SS_VER_2_1 -DSTM32F303xC -DSTM32F3 -DSTM32 -DDEBUG -DHAL_TYPE=HAL_stm32f3 -DPLATFORM=CWLITEARM -DF_CPU=7372800UL -Os -funsigned-char -funsigned-bitfields -fshort-enums -Wall -Wstrict-prototypes -Wa,-adhlns=objdir/csidh.lst -I./simpleserial/ -I./hal -I./hal/stm32f3 -I./hal/stm32f3/CMSIS -I./hal/stm32f3/CMSIS/core -I./hal/stm32f3/CMSIS/device -I./hal/stm32f4/Legacy -std=gnu99 -MMD -MP -MF .dep/csidh.o.d csidh.c -o objdir/csidh.o \n",
      ".\n",
      "Compiling C: fp.c\n",
      "arm-none-eabi-gcc -c -mcpu=cortex-m4 -I. -DTRACE -DF419 -mthumb -mfloat-abi=soft -fmessage-length=0 -ffunction-sections -gdwarf-2 -DSS_VER=SS_VER_2_1 -DSTM32F303xC -DSTM32F3 -DSTM32 -DDEBUG -DHAL_TYPE=HAL_stm32f3 -DPLATFORM=CWLITEARM -DF_CPU=7372800UL -Os -funsigned-char -funsigned-bitfields -fshort-enums -Wall -Wstrict-prototypes -Wa,-adhlns=objdir/fp.lst -I./simpleserial/ -I./hal -I./hal/stm32f3 -I./hal/stm32f3/CMSIS -I./hal/stm32f3/CMSIS/core -I./hal/stm32f3/CMSIS/device -I./hal/stm32f4/Legacy -std=gnu99 -MMD -MP -MF .dep/fp.o.d fp.c -o objdir/fp.o \n",
      ".\n",
      "Compiling C: mont.c\n",
      "arm-none-eabi-gcc -c -mcpu=cortex-m4 -I. -DTRACE -DF419 -mthumb -mfloat-abi=soft -fmessage-length=0 -ffunction-sections -gdwarf-2 -DSS_VER=SS_VER_2_1 -DSTM32F303xC -DSTM32F3 -DSTM32 -DDEBUG -DHAL_TYPE=HAL_stm32f3 -DPLATFORM=CWLITEARM -DF_CPU=7372800UL -Os -funsigned-char -funsigned-bitfields -fshort-enums -Wall -Wstrict-prototypes -Wa,-adhlns=objdir/mont.lst -I./simpleserial/ -I./hal -I./hal/stm32f3 -I./hal/stm32f3/CMSIS -I./hal/stm32f3/CMSIS/core -I./hal/stm32f3/CMSIS/device -I./hal/stm32f4/Legacy -std=gnu99 -MMD -MP -MF .dep/mont.o.d mont.c -o objdir/mont.o \n",
      ".\n",
      "Compiling C: randombytes.c\n",
      "arm-none-eabi-gcc -c -mcpu=cortex-m4 -I. -DTRACE -DF419 -mthumb -mfloat-abi=soft -fmessage-length=0 -ffunction-sections -gdwarf-2 -DSS_VER=SS_VER_2_1 -DSTM32F303xC -DSTM32F3 -DSTM32 -DDEBUG -DHAL_TYPE=HAL_stm32f3 -DPLATFORM=CWLITEARM -DF_CPU=7372800UL -Os -funsigned-char -funsigned-bitfields -fshort-enums -Wall -Wstrict-prototypes -Wa,-adhlns=objdir/randombytes.lst -I./simpleserial/ -I./hal -I./hal/stm32f3 -I./hal/stm32f3/CMSIS -I./hal/stm32f3/CMSIS/core -I./hal/stm32f3/CMSIS/device -I./hal/stm32f4/Legacy -std=gnu99 -MMD -MP -MF .dep/randombytes.o.d randombytes.c -o objdir/randombytes.o \n",
      ".\n",
      "Compiling C: uint.c\n",
      "arm-none-eabi-gcc -c -mcpu=cortex-m4 -I. -DTRACE -DF419 -mthumb -mfloat-abi=soft -fmessage-length=0 -ffunction-sections -gdwarf-2 -DSS_VER=SS_VER_2_1 -DSTM32F303xC -DSTM32F3 -DSTM32 -DDEBUG -DHAL_TYPE=HAL_stm32f3 -DPLATFORM=CWLITEARM -DF_CPU=7372800UL -Os -funsigned-char -funsigned-bitfields -fshort-enums -Wall -Wstrict-prototypes -Wa,-adhlns=objdir/uint.lst -I./simpleserial/ -I./hal -I./hal/stm32f3 -I./hal/stm32f3/CMSIS -I./hal/stm32f3/CMSIS/core -I./hal/stm32f3/CMSIS/device -I./hal/stm32f4/Legacy -std=gnu99 -MMD -MP -MF .dep/uint.o.d uint.c -o objdir/uint.o \n",
      ".\n",
      "Compiling C: parametrization.c\n",
      "arm-none-eabi-gcc -c -mcpu=cortex-m4 -I. -DTRACE -DF419 -mthumb -mfloat-abi=soft -fmessage-length=0 -ffunction-sections -gdwarf-2 -DSS_VER=SS_VER_2_1 -DSTM32F303xC -DSTM32F3 -DSTM32 -DDEBUG -DHAL_TYPE=HAL_stm32f3 -DPLATFORM=CWLITEARM -DF_CPU=7372800UL -Os -funsigned-char -funsigned-bitfields -fshort-enums -Wall -Wstrict-prototypes -Wa,-adhlns=objdir/parametrization.lst -I./simpleserial/ -I./hal -I./hal/stm32f3 -I./hal/stm32f3/CMSIS -I./hal/stm32f3/CMSIS/core -I./hal/stm32f3/CMSIS/device -I./hal/stm32f4/Legacy -std=gnu99 -MMD -MP -MF .dep/parametrization.o.d parametrization.c -o objdir/parametrization.o \n",
      ".\n",
      "Compiling C: ./simpleserial/simpleserial.c\n",
      "arm-none-eabi-gcc -c -mcpu=cortex-m4 -I. -DTRACE -DF419 -mthumb -mfloat-abi=soft -fmessage-length=0 -ffunction-sections -gdwarf-2 -DSS_VER=SS_VER_2_1 -DSTM32F303xC -DSTM32F3 -DSTM32 -DDEBUG -DHAL_TYPE=HAL_stm32f3 -DPLATFORM=CWLITEARM -DF_CPU=7372800UL -Os -funsigned-char -funsigned-bitfields -fshort-enums -Wall -Wstrict-prototypes -Wa,-adhlns=objdir/simpleserial.lst -I./simpleserial/ -I./hal -I./hal/stm32f3 -I./hal/stm32f3/CMSIS -I./hal/stm32f3/CMSIS/core -I./hal/stm32f3/CMSIS/device -I./hal/stm32f4/Legacy -std=gnu99 -MMD -MP -MF .dep/simpleserial.o.d ./simpleserial/simpleserial.c -o objdir/simpleserial.o \n",
      ".\n",
      "Compiling C: ./hal/stm32f3/stm32f3_hal.c\n",
      "arm-none-eabi-gcc -c -mcpu=cortex-m4 -I. -DTRACE -DF419 -mthumb -mfloat-abi=soft -fmessage-length=0 -ffunction-sections -gdwarf-2 -DSS_VER=SS_VER_2_1 -DSTM32F303xC -DSTM32F3 -DSTM32 -DDEBUG -DHAL_TYPE=HAL_stm32f3 -DPLATFORM=CWLITEARM -DF_CPU=7372800UL -Os -funsigned-char -funsigned-bitfields -fshort-enums -Wall -Wstrict-prototypes -Wa,-adhlns=objdir/stm32f3_hal.lst -I./simpleserial/ -I./hal -I./hal/stm32f3 -I./hal/stm32f3/CMSIS -I./hal/stm32f3/CMSIS/core -I./hal/stm32f3/CMSIS/device -I./hal/stm32f4/Legacy -std=gnu99 -MMD -MP -MF .dep/stm32f3_hal.o.d ./hal/stm32f3/stm32f3_hal.c -o objdir/stm32f3_hal.o \n",
      ".\n",
      "Compiling C: ./hal/stm32f3/stm32f3_hal_lowlevel.c\n",
      "arm-none-eabi-gcc -c -mcpu=cortex-m4 -I. -DTRACE -DF419 -mthumb -mfloat-abi=soft -fmessage-length=0 -ffunction-sections -gdwarf-2 -DSS_VER=SS_VER_2_1 -DSTM32F303xC -DSTM32F3 -DSTM32 -DDEBUG -DHAL_TYPE=HAL_stm32f3 -DPLATFORM=CWLITEARM -DF_CPU=7372800UL -Os -funsigned-char -funsigned-bitfields -fshort-enums -Wall -Wstrict-prototypes -Wa,-adhlns=objdir/stm32f3_hal_lowlevel.lst -I./simpleserial/ -I./hal -I./hal/stm32f3 -I./hal/stm32f3/CMSIS -I./hal/stm32f3/CMSIS/core -I./hal/stm32f3/CMSIS/device -I./hal/stm32f4/Legacy -std=gnu99 -MMD -MP -MF .dep/stm32f3_hal_lowlevel.o.d ./hal/stm32f3/stm32f3_hal_lowlevel.c -o objdir/stm32f3_hal_lowlevel.o \n",
      ".\n",
      "Compiling C: ./hal/stm32f3/stm32f3_sysmem.c\n",
      "arm-none-eabi-gcc -c -mcpu=cortex-m4 -I. -DTRACE -DF419 -mthumb -mfloat-abi=soft -fmessage-length=0 -ffunction-sections -gdwarf-2 -DSS_VER=SS_VER_2_1 -DSTM32F303xC -DSTM32F3 -DSTM32 -DDEBUG -DHAL_TYPE=HAL_stm32f3 -DPLATFORM=CWLITEARM -DF_CPU=7372800UL -Os -funsigned-char -funsigned-bitfields -fshort-enums -Wall -Wstrict-prototypes -Wa,-adhlns=objdir/stm32f3_sysmem.lst -I./simpleserial/ -I./hal -I./hal/stm32f3 -I./hal/stm32f3/CMSIS -I./hal/stm32f3/CMSIS/core -I./hal/stm32f3/CMSIS/device -I./hal/stm32f4/Legacy -std=gnu99 -MMD -MP -MF .dep/stm32f3_sysmem.o.d ./hal/stm32f3/stm32f3_sysmem.c -o objdir/stm32f3_sysmem.o \n",
      ".\n",
      "Assembling: ./hal/stm32f3/stm32f3_startup.S\n",
      "arm-none-eabi-gcc -c -mcpu=cortex-m4 -I. -x assembler-with-cpp -mthumb -mfloat-abi=soft -fmessage-length=0 -ffunction-sections -DF_CPU=7372800 -Wa,-gstabs,-adhlns=objdir/stm32f3_startup.lst -I./simpleserial/ -I./hal -I./hal/stm32f3 -I./hal/stm32f3/CMSIS -I./hal/stm32f3/CMSIS/core -I./hal/stm32f3/CMSIS/device -I./hal/stm32f4/Legacy ./hal/stm32f3/stm32f3_startup.S -o objdir/stm32f3_startup.o\n",
      ".\n",
      "Linking: main-CWLITEARM.elf\n",
      "arm-none-eabi-gcc -mcpu=cortex-m4 -I. -DTRACE -DF419 -mthumb -mfloat-abi=soft -fmessage-length=0 -ffunction-sections -gdwarf-2 -DSS_VER=SS_VER_2_1 -DSTM32F303xC -DSTM32F3 -DSTM32 -DDEBUG -DHAL_TYPE=HAL_stm32f3 -DPLATFORM=CWLITEARM -DF_CPU=7372800UL -Os -funsigned-char -funsigned-bitfields -fshort-enums -Wall -Wstrict-prototypes -Wa,-adhlns=objdir/main.o -I./simpleserial/ -I./hal -I./hal/stm32f3 -I./hal/stm32f3/CMSIS -I./hal/stm32f3/CMSIS/core -I./hal/stm32f3/CMSIS/device -I./hal/stm32f4/Legacy -std=gnu99 -MMD -MP -MF .dep/main-CWLITEARM.elf.d objdir/main.o objdir/csidh.o objdir/fp.o objdir/mont.o objdir/randombytes.o objdir/uint.o objdir/parametrization.o objdir/simpleserial.o objdir/stm32f3_hal.o objdir/stm32f3_hal_lowlevel.o objdir/stm32f3_sysmem.o objdir/stm32f3_startup.o --output main-CWLITEARM.elf --specs=nano.specs --specs=nosys.specs -T ./hal/stm32f3/LinkerScript.ld -Wl,--gc-sections -lm -Wl,-Map=main-CWLITEARM.map,--cref   -lm  \n",
      ".\n",
      "Creating load file for Flash: main-CWLITEARM.hex\n",
      "arm-none-eabi-objcopy -O ihex -R .eeprom -R .fuse -R .lock -R .signature main-CWLITEARM.elf main-CWLITEARM.hex\n",
      ".\n",
      "Creating load file for EEPROM: main-CWLITEARM.eep\n",
      "arm-none-eabi-objcopy -j .eeprom --set-section-flags=.eeprom=\"alloc,load\" \\\n",
      "--change-section-lma .eeprom=0 --no-change-warnings -O ihex main-CWLITEARM.elf main-CWLITEARM.eep || exit 0\n",
      ".\n",
      "Creating Extended Listing: main-CWLITEARM.lss\n",
      "arm-none-eabi-objdump -h -S -z main-CWLITEARM.elf > main-CWLITEARM.lss\n",
      ".\n",
      "Creating Symbol Table: main-CWLITEARM.sym\n",
      "arm-none-eabi-nm -n main-CWLITEARM.elf > main-CWLITEARM.sym\n",
      "Size after:\n",
      "   text\t   data\t    bss\t    dec\t    hex\tfilename\n",
      "  15076\t    112\t   1816\t  17004\t   426c\tmain-CWLITEARM.elf\n",
      "+--------------------------------------------------------\n",
      "+ Built for platform CW-Lite Arm (STM32F3)\n",
      "+--------------------------------------------------------\n"
     ]
    },
    {
     "name": "stderr",
     "output_type": "stream",
     "text": [
      "/nix/store/8w6rddmpg7b1xg2sysjq7kz0aqfpvw12-gcc-arm-embedded-12.2.rel1/bin/../lib/gcc/arm-none-eabi/12.2.1/../../../../arm-none-eabi/bin/ld: /nix/store/8w6rddmpg7b1xg2sysjq7kz0aqfpvw12-gcc-arm-embedded-12.2.rel1/bin/../lib/gcc/arm-none-eabi/12.2.1/../../../../arm-none-eabi/lib/thumb/v7e-m/nofp/libg_nano.a(libc_a-closer.o): in function `_close_r':\n",
      "closer.c:(.text._close_r+0xc): warning: _close is not implemented and will always fail\n",
      "/nix/store/8w6rddmpg7b1xg2sysjq7kz0aqfpvw12-gcc-arm-embedded-12.2.rel1/bin/../lib/gcc/arm-none-eabi/12.2.1/../../../../arm-none-eabi/bin/ld: /nix/store/8w6rddmpg7b1xg2sysjq7kz0aqfpvw12-gcc-arm-embedded-12.2.rel1/bin/../lib/gcc/arm-none-eabi/12.2.1/../../../../arm-none-eabi/lib/thumb/v7e-m/nofp/libg_nano.a(libc_a-fstatr.o): in function `_fstat_r':\n",
      "fstatr.c:(.text._fstat_r+0xe): warning: _fstat is not implemented and will always fail\n",
      "/nix/store/8w6rddmpg7b1xg2sysjq7kz0aqfpvw12-gcc-arm-embedded-12.2.rel1/bin/../lib/gcc/arm-none-eabi/12.2.1/../../../../arm-none-eabi/bin/ld: /nix/store/8w6rddmpg7b1xg2sysjq7kz0aqfpvw12-gcc-arm-embedded-12.2.rel1/bin/../lib/gcc/arm-none-eabi/12.2.1/../../../../arm-none-eabi/lib/thumb/v7e-m/nofp/libg_nano.a(libc_a-signalr.o): in function `_getpid_r':\n",
      "signalr.c:(.text._getpid_r+0x0): warning: _getpid is not implemented and will always fail\n",
      "/nix/store/8w6rddmpg7b1xg2sysjq7kz0aqfpvw12-gcc-arm-embedded-12.2.rel1/bin/../lib/gcc/arm-none-eabi/12.2.1/../../../../arm-none-eabi/bin/ld: /nix/store/8w6rddmpg7b1xg2sysjq7kz0aqfpvw12-gcc-arm-embedded-12.2.rel1/bin/../lib/gcc/arm-none-eabi/12.2.1/../../../../arm-none-eabi/lib/thumb/v7e-m/nofp/libg_nano.a(libc_a-isattyr.o): in function `_isatty_r':\n",
      "isattyr.c:(.text._isatty_r+0xc): warning: _isatty is not implemented and will always fail\n",
      "/nix/store/8w6rddmpg7b1xg2sysjq7kz0aqfpvw12-gcc-arm-embedded-12.2.rel1/bin/../lib/gcc/arm-none-eabi/12.2.1/../../../../arm-none-eabi/bin/ld: /nix/store/8w6rddmpg7b1xg2sysjq7kz0aqfpvw12-gcc-arm-embedded-12.2.rel1/bin/../lib/gcc/arm-none-eabi/12.2.1/../../../../arm-none-eabi/lib/thumb/v7e-m/nofp/libg_nano.a(libc_a-signalr.o): in function `_kill_r':\n",
      "signalr.c:(.text._kill_r+0xe): warning: _kill is not implemented and will always fail\n",
      "/nix/store/8w6rddmpg7b1xg2sysjq7kz0aqfpvw12-gcc-arm-embedded-12.2.rel1/bin/../lib/gcc/arm-none-eabi/12.2.1/../../../../arm-none-eabi/bin/ld: /nix/store/8w6rddmpg7b1xg2sysjq7kz0aqfpvw12-gcc-arm-embedded-12.2.rel1/bin/../lib/gcc/arm-none-eabi/12.2.1/../../../../arm-none-eabi/lib/thumb/v7e-m/nofp/libg_nano.a(libc_a-lseekr.o): in function `_lseek_r':\n",
      "lseekr.c:(.text._lseek_r+0x10): warning: _lseek is not implemented and will always fail\n",
      "/nix/store/8w6rddmpg7b1xg2sysjq7kz0aqfpvw12-gcc-arm-embedded-12.2.rel1/bin/../lib/gcc/arm-none-eabi/12.2.1/../../../../arm-none-eabi/bin/ld: /nix/store/8w6rddmpg7b1xg2sysjq7kz0aqfpvw12-gcc-arm-embedded-12.2.rel1/bin/../lib/gcc/arm-none-eabi/12.2.1/../../../../arm-none-eabi/lib/thumb/v7e-m/nofp/libg_nano.a(libc_a-readr.o): in function `_read_r':\n",
      "readr.c:(.text._read_r+0x10): warning: _read is not implemented and will always fail\n",
      "/nix/store/8w6rddmpg7b1xg2sysjq7kz0aqfpvw12-gcc-arm-embedded-12.2.rel1/bin/../lib/gcc/arm-none-eabi/12.2.1/../../../../arm-none-eabi/bin/ld: /nix/store/8w6rddmpg7b1xg2sysjq7kz0aqfpvw12-gcc-arm-embedded-12.2.rel1/bin/../lib/gcc/arm-none-eabi/12.2.1/../../../../arm-none-eabi/lib/thumb/v7e-m/nofp/libg_nano.a(libc_a-writer.o): in function `_write_r':\n",
      "writer.c:(.text._write_r+0x10): warning: _write is not implemented and will always fail\n",
      "/nix/store/8w6rddmpg7b1xg2sysjq7kz0aqfpvw12-gcc-arm-embedded-12.2.rel1/bin/../lib/gcc/arm-none-eabi/12.2.1/../../../../arm-none-eabi/bin/ld: warning: main-CWLITEARM.elf has a LOAD segment with RWX permissions\n"
     ]
    },
    {
     "data": {
      "text/plain": [
       "0"
      ]
     },
     "execution_count": 5,
     "metadata": {},
     "output_type": "execute_result"
    }
   ],
   "source": [
    "os.chdir(PATH)\n",
    "os.system(\"make clean PLATFORM={PLATFORM} CRYPTO_TARGET={CRYPTO_TARGET} SS_VER={SS_VER} FUNC_SEL=TRACE\")\n",
    "os.system(f\"make PLATFORM={PLATFORM} CRYPTO_TARGET={CRYPTO_TARGET} SS_VER={SS_VER} FUNC_SEL=TRACE\")"
   ]
  },
  {
   "cell_type": "code",
   "execution_count": 6,
   "id": "41083f27-54ed-47de-9a8b-544fe7a93fde",
   "metadata": {},
   "outputs": [
    {
     "data": {
      "text/plain": [
       "'/home/tjaros/Documents/thesis/csidh-target/src/main-CWLITEARM.hex'"
      ]
     },
     "execution_count": 6,
     "metadata": {},
     "output_type": "execute_result"
    }
   ],
   "source": [
    "scope.default_setup()\n",
    "scope.clock.adc_src = 'clkgen_x1'\n",
    "\n",
    "FIRMWARE_PATH = PATH + BIN\n",
    "\n",
    "FIRMWARE_PATH"
   ]
  },
  {
   "cell_type": "code",
   "execution_count": 7,
   "id": "647dd13b-9eb1-4711-ad18-98cd8725cc58",
   "metadata": {},
   "outputs": [],
   "source": [
    "reset_target(scope)\n",
    "target.flush()"
   ]
  },
  {
   "cell_type": "code",
   "execution_count": 8,
   "id": "a38f473b-4606-4c37-a2be-610a31027809",
   "metadata": {},
   "outputs": [
    {
     "name": "stdout",
     "output_type": "stream",
     "text": [
      "Detected known STMF32: STM32F302xB(C)/303xB(C)\n",
      "Extended erase (0x44), this can take ten seconds or more\n",
      "Attempting to program 15195 bytes at 0x8000000\n",
      "STM32F Programming flash...\n",
      "STM32F Reading flash...\n",
      "Verified flash OK, 15195 bytes\n"
     ]
    }
   ],
   "source": [
    "cw.program_target(scope, prog, FIRMWARE_PATH)\n",
    "if SS_VER=='SS_VER_2_1':\n",
    "    target.reset_comms()"
   ]
  },
  {
   "cell_type": "code",
   "execution_count": 9,
   "id": "e8c9abe3-97a2-4264-976f-37a710979e35",
   "metadata": {},
   "outputs": [
    {
     "data": {
      "text/plain": [
       "[{'cmd': b'v', 'len': 0, 'flags': 0},\n",
       " {'cmd': b'w', 'len': 0, 'flags': 0},\n",
       " {'cmd': b'1', 'len': 0, 'flags': 0},\n",
       " {'cmd': b'2', 'len': 0, 'flags': 0},\n",
       " {'cmd': b'3', 'len': 0, 'flags': 0},\n",
       " {'cmd': b'4', 'len': 0, 'flags': 0},\n",
       " {'cmd': b'5', 'len': 0, 'flags': 0}]"
      ]
     },
     "execution_count": 9,
     "metadata": {},
     "output_type": "execute_result"
    }
   ],
   "source": [
    "target.get_simpleserial_commands()"
   ]
  },
  {
   "attachments": {},
   "cell_type": "markdown",
   "id": "cd62ef6b-c763-4fef-ae43-9cf17950cf64",
   "metadata": {},
   "source": [
    "## Read public"
   ]
  },
  {
   "cell_type": "code",
   "execution_count": 10,
   "id": "1391452d-79aa-4661-8362-5efbfd2ba02a",
   "metadata": {},
   "outputs": [
    {
     "name": "stdout",
     "output_type": "stream",
     "text": [
      "CWbytearray(b'00 00 00 00 00 00 00 00')\n"
     ]
    }
   ],
   "source": [
    "target.flush()\n",
    "target.send_cmd('2', 0, bytearray([]))\n",
    "print(target.simpleserial_read())"
   ]
  },
  {
   "attachments": {},
   "cell_type": "markdown",
   "id": "71cf6250-8cc8-4d63-8b63-9dc01bb28557",
   "metadata": {},
   "source": [
    "## Read private"
   ]
  },
  {
   "cell_type": "code",
   "execution_count": 11,
   "id": "2e927fa9-2d44-4042-9b9b-1f97864e390c",
   "metadata": {},
   "outputs": [
    {
     "name": "stdout",
     "output_type": "stream",
     "text": [
      "CWbytearray(b'00 00 00')\n"
     ]
    }
   ],
   "source": [
    "target.flush()\n",
    "target.send_cmd('4', 0, bytearray([]))\n",
    "print(target.simpleserial_read())"
   ]
  },
  {
   "attachments": {},
   "cell_type": "markdown",
   "id": "6b265190-d644-44d8-856f-50924463dc81",
   "metadata": {},
   "source": [
    "## Set public\n",
    "if `scmd` == 0x01 we set it to base curve (A = 0)"
   ]
  },
  {
   "cell_type": "code",
   "execution_count": 12,
   "id": "866673de-76ab-4766-a4fd-54c1775718b5",
   "metadata": {},
   "outputs": [],
   "source": [
    "target.send_cmd('1', 0x01, bytearray([0x00]*8))"
   ]
  },
  {
   "attachments": {},
   "cell_type": "markdown",
   "id": "393dc9c6-edf7-4ba5-a671-dbbcd2f052e5",
   "metadata": {},
   "source": [
    "## Perform some isogenies"
   ]
  },
  {
   "cell_type": "code",
   "execution_count": 13,
   "id": "fdfbe22d-34e2-4de4-9dc1-fa73e688db37",
   "metadata": {},
   "outputs": [
    {
     "name": "stdout",
     "output_type": "stream",
     "text": [
      "Public:  CWbytearray(b'00 00 00 00 00 00 00 00')\n",
      "Private: CWbytearray(b'fc 06 f8')\n",
      "Public:  CWbytearray(b'0d 01 00 00 00 00 00 00')\n"
     ]
    }
   ],
   "source": [
    "# reset\n",
    "reset_target(scope)\n",
    "target.flush()\n",
    "\n",
    "\n",
    "# set public to A=0\n",
    "target.send_cmd('1', 0x01, bytearray([0x00]*8))\n",
    "# read public\n",
    "time.sleep(0.1)\n",
    "target.flush()\n",
    "target.send_cmd('2', 0, bytearray([]))\n",
    "print('Public: ',target.simpleserial_read())\n",
    "\n",
    "\n",
    "# set secret to [4, -6, 8] because the algorithm computes for inverted key\n",
    "target.flush()\n",
    "target.send_cmd('3', 0x00, struct.pack('b', -4) + struct.pack('b', 6) + struct.pack('b', -8))\n",
    "time.sleep(0.1)\n",
    "# read secret\n",
    "target.flush()\n",
    "target.send_cmd('4', 0, bytearray([]))\n",
    "print('Private:', target.simpleserial_read())\n",
    "\n",
    "# run the alg\n",
    "target.flush()\n",
    "target.send_cmd('5', 0x00, bytearray([]))\n",
    "\n",
    "# read public\n",
    "time.sleep(0.4)\n",
    "target.flush()\n",
    "target.send_cmd('2', 0, bytearray([]))\n",
    "print('Public: ',target.simpleserial_read())\n",
    "\n"
   ]
  },
  {
   "cell_type": "code",
   "execution_count": 14,
   "id": "54cb39fb",
   "metadata": {},
   "outputs": [
    {
     "name": "stdout",
     "output_type": "stream",
     "text": [
      "Public:  CWbytearray(b'0d 01 00 00 00 00 00 00')\n",
      "Private: CWbytearray(b'04 fa 08')\n",
      "Public:  CWbytearray(b'00 00 00 00 00 00 00 00')\n"
     ]
    }
   ],
   "source": [
    "# read public\n",
    "time.sleep(0.5)\n",
    "target.flush()\n",
    "target.send_cmd('2', 0, bytearray([]))\n",
    "print('Public: ',target.simpleserial_read())\n",
    "\n",
    "\n",
    "# set secret to [-4, 6, -8]\n",
    "target.flush()\n",
    "target.send_cmd('3', 0x00, struct.pack('b', 4) + struct.pack('b', -6) + struct.pack('b', 8))\n",
    "time.sleep(0.5)\n",
    "# read secret\n",
    "target.flush()\n",
    "target.send_cmd('4', 0, bytearray([]))\n",
    "print('Private:', target.simpleserial_read())\n",
    "\n",
    "# run the alg\n",
    "target.flush()\n",
    "target.send_cmd('5', 0x00, bytearray([]))\n",
    "\n",
    "# read public\n",
    "time.sleep(0.5)\n",
    "target.flush()\n",
    "target.send_cmd('2', 0, bytearray([]))\n",
    "print('Public: ',target.simpleserial_read())\n",
    "\n"
   ]
  },
  {
   "cell_type": "code",
   "execution_count": 15,
   "id": "2e9f13c4-7279-4699-8414-2dd0da6d35b8",
   "metadata": {},
   "outputs": [],
   "source": [
    "reset_target(scope)\n",
    "target.flush()"
   ]
  },
  {
   "cell_type": "code",
   "execution_count": 16,
   "id": "743a7049-14bf-4b42-b279-3aeffcca1424",
   "metadata": {},
   "outputs": [],
   "source": [
    "scope.dis()\n",
    "target.dis()"
   ]
  },
  {
   "cell_type": "code",
   "execution_count": null,
   "id": "8f711e15-a261-452c-b4ad-52cf5370f0b5",
   "metadata": {},
   "outputs": [],
   "source": []
  }
 ],
 "metadata": {
  "kernelspec": {
   "display_name": "Python 3 (ipykernel)",
   "language": "python",
   "name": "python3"
  },
  "language_info": {
   "codemirror_mode": {
    "name": "ipython",
    "version": 3
   },
   "file_extension": ".py",
   "mimetype": "text/x-python",
   "name": "python",
   "nbconvert_exporter": "python",
   "pygments_lexer": "ipython3",
   "version": "3.10.13"
  }
 },
 "nbformat": 4,
 "nbformat_minor": 5
}
