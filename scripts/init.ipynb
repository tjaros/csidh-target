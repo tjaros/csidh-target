{
 "cells": [
  {
   "cell_type": "code",
   "execution_count": null,
   "id": "6754161f-e234-4ef4-ac93-aa837ed3c39c",
   "metadata": {},
   "outputs": [],
   "source": [
    "import pandas as pd"
   ]
  },
  {
   "cell_type": "code",
   "execution_count": null,
   "id": "4acbf299-d73d-4c33-a394-040cb9e68ee1",
   "metadata": {},
   "outputs": [],
   "source": [
    "datasets = {\n",
    "    \"dummy\" : {\n",
    "        str([10, 0, 0]):  {\"attack1\": \"data/dummy-results/results-[10,0,0].csv\"},\n",
    "        str([10, -10, 10]): {\"attack1\": \"data/dummy-results/results-[10,-10,10].csv\",\n",
    "                             \"attack2\": \"data/dummy-results/results-[10,-10,10]-attack2.csv\",\n",
    "                            \"attack2-tight\": \"data/dummy-results/results-[10, -10, 10]-attack2-tight.csv\"},\n",
    "        str([10, -10, 0]): { \"attack2\": \"data/dummy-results/results-[10,-10,0]-attack2.csv\"}\n",
    "    }\n",
    "}"
   ]
  },
  {
   "cell_type": "code",
   "execution_count": null,
   "id": "f6b0c388-b55a-4cac-94d0-38458a530d0a",
   "metadata": {},
   "outputs": [],
   "source": [
    "for dataset_type in datasets:\n",
    "    for key in datasets[dataset_type]:\n",
    "        for attack_type in datasets[dataset_type][key]:\n",
    "             path = datasets[dataset_type][key][attack_type]\n",
    "             datasets[dataset_type][key][attack_type] = pd.read_csv(path, header=0).sort_values(by=[\"good/bad/crash\"], ascending=False)"
   ]
  },
  {
   "cell_type": "code",
   "execution_count": null,
   "id": "d3c48475-6c11-41d0-81a3-7521b9060690",
   "metadata": {},
   "outputs": [],
   "source": []
  }
 ],
 "metadata": {
  "kernelspec": {
   "display_name": "Python 3 (ipykernel)",
   "language": "python",
   "name": "python3"
  },
  "language_info": {
   "codemirror_mode": {
    "name": "ipython",
    "version": 3
   },
   "file_extension": ".py",
   "mimetype": "text/x-python",
   "name": "python",
   "nbconvert_exporter": "python",
   "pygments_lexer": "ipython3",
   "version": "3.10.13"
  }
 },
 "nbformat": 4,
 "nbformat_minor": 5
}
