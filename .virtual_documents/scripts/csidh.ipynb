import chipwhisperer as cw
import time 
import os
import sys
import struct


SCOPETYPE = 'OPENADC'
PLATFORM = 'CWLITEARM'
SS_VER = 'SS_VER_2_1'
CRYPTO_TARGET = "NONE"
BIN = 'main-CWLITEARM.hex'

PATH = '/home/tjaros/Documents/mgr/playground/git/csidh-target/src/'


def reset_target(scope):
    scope.io.nrst = 'low'
    time.sleep(0.05)
    scope.io.nrst = 'high'
    time.sleep(0.05)


# Setup our capture and target boards.
########################################
scope = cw.scope()
scope.default_setup()
target = cw.target(scope, cw.targets.SimpleSerial2, flush_on_err=False)
########################################
prog = cw.programmers.STM32FProgrammer

time.sleep(0.1)
scope.default_setup()


os.chdir(PATH)
os.system(f"make PLATFORM={PLATFORM} CRYPTO_TARGET={CRYPTO_TARGET} SS_VER={SS_VER} FUNC_SEL=TRACE")


scope.default_setup()
scope.clock.adc_src = 'clkgen_x1'

FIRMWARE_PATH = PATH + BIN

FIRMWARE_PATH


reset_target(scope)
target.flush()


cw.program_target(scope, prog, FIRMWARE_PATH)
if SS_VER=='SS_VER_2_1':
    target.reset_comms()


target.get_simpleserial_commands()





target.flush()
target.send_cmd('2', 0, bytearray([]))
print(target.simpleserial_read())





target.flush()
target.send_cmd('4', 0, bytearray([]))
print(target.simpleserial_read())





target.send_cmd('1', 0x01, bytearray([0x00]*64))





# set secret to [1, 0, 0]
target.flush()
target.send_cmd('3', 0x00, struct.pack('b', 2) + struct.pack('b', 0) + bytearray([0x00]*73))
time.sleep(1)


# run the alg
target.flush()
target.send_cmd('5', 0x00, bytearray([]))
time.sleep(40)


# read public
target.flush()
target.send_cmd('2', 0, bytearray([]))
print(target.simpleserial_read())


# set secret to [-1, 0, 0]
target.flush()
target.send_cmd('3', 0x00, struct.pack('b', -1) + struct.pack('b', 0) + bytearray([0x00]*73))
time.sleep(1)
# run the alg
target.flush()
target.send_cmd('5', 0x00, bytearray([]))
time.sleep(1)
# read public
target.flush()
target.send_cmd('2', 0, bytearray([]))
print(target.simpleserial_read())


target.flush()
target.send_cmd('3', 0x00, struct.pack('b', -1) + struct.pack('b', 0) + bytearray([0x00]*1))


target.read()


reset_target(scope)
target.flush()


scope.dis()
target.dis()





while True:
    print(target.read())



